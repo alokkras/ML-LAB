{
  "nbformat": 4,
  "nbformat_minor": 0,
  "metadata": {
    "colab": {
      "name": "10_Locally Weighted Regression algorithm.ipynb",
      "provenance": [],
      "collapsed_sections": []
    },
    "kernelspec": {
      "name": "python3",
      "display_name": "Python 3"
    },
    "language_info": {
      "name": "python"
    }
  },
  "cells": [
    {
      "cell_type": "markdown",
      "metadata": {
        "id": "aQN74Y2g_rUh"
      },
      "source": [
        "Name: Rohit Kudache\n",
        "USN: 1BM18CS083\n",
        "PROGRAM 10: Locally Weighted Regression algorithm"
      ]
    },
    {
      "cell_type": "code",
      "metadata": {
        "colab": {
          "base_uri": "https://localhost:8080/",
          "height": 531
        },
        "id": "myPfq6Fm9TTx",
        "outputId": "9d691e98-a206-4bf7-f2f4-b678a5eafda4"
      },
      "source": [
        "import numpy as np\n",
        "from bokeh.plotting import figure, show, output_notebook\n",
        "from bokeh.layouts import gridplot\n",
        "from bokeh.io import push_notebook\n",
        "from matplotlib import pyplot as plt\n",
        "\n",
        "def local_regression(x0, X, Y, tau):# add bias term\n",
        " x0 = np.r_[1, x0] # Add one to avoid the loss in information\n",
        " X = np.c_[np.ones(len(X)), X]\n",
        "\n",
        " # fit model: normal equations with kernel\n",
        " xw = X.T * radial_kernel(x0, X, tau) # XTranspose * W\n",
        "\n",
        " beta = np.linalg.pinv(xw @ X) @ xw @ Y #@ Matrix Multiplication or Dot Product\n",
        "\n",
        "\n",
        " # predict value\n",
        " return x0 @ beta # @ Matrix Multiplication or Dot Product for prediction\n",
        "def radial_kernel(x0, X, tau):\n",
        " return np.exp(np.sum((X - x0) ** 2, axis=1) / (-2 * tau * tau))\n",
        "# Weight or Radial Kernal Bias Function\n",
        "\n",
        "n = 1000\n",
        "# generate dataset\n",
        "X = np.linspace(-3, 3, num=n)\n",
        "print(\"The Data Set ( 10 Samples) X :\\n\",X[1:10])\n",
        "Y = np.log(np.abs(X ** 2 - 1) + .5)\n",
        "print(\"The Fitting Curve Data Set (10 Samples) Y :\\n\",Y[1:10])\n",
        "# jitter X\n",
        "X += np.random.normal(scale=.1, size=n)\n",
        "print(\"Normalised (10 Samples) X :\\n\",X[1:10])\n",
        "\n",
        "domain = np.linspace(-3, 3, num=300)\n",
        "print(\" Xo Domain Space(10 Samples) :\\n\",domain[1:10])\n",
        "def plot_lwr(tau):\n",
        " # prediction through regression\n",
        " prediction = [local_regression(x0, X, Y, tau) for x0 in domain]\n",
        " plot = figure(plot_width=400, plot_height=400)\n",
        " plot.title.text='tau=%g' % tau\n",
        " plot.scatter(X, Y, alpha=.3)\n",
        " plot.line(domain, prediction, line_width=2, color='red')\n",
        " return plot\n",
        "\n",
        "show(gridplot([\n",
        " [plot_lwr(10.), plot_lwr(1.)],\n",
        " [plot_lwr(0.1), plot_lwr(0.01)]]))\n",
        "plt.title('K Mean Classification')\n",
        "plt.xlabel('Petal Length')"
      ],
      "execution_count": 4,
      "outputs": [
        {
          "output_type": "stream",
          "text": [
            "The Data Set ( 10 Samples) X :\n",
            " [-2.99399399 -2.98798799 -2.98198198 -2.97597598 -2.96996997 -2.96396396\n",
            " -2.95795796 -2.95195195 -2.94594595]\n",
            "The Fitting Curve Data Set (10 Samples) Y :\n",
            " [2.13582188 2.13156806 2.12730467 2.12303166 2.11874898 2.11445659\n",
            " 2.11015444 2.10584249 2.10152068]\n",
            "Normalised (10 Samples) X :\n",
            " [-2.86327233 -2.86956667 -2.82337772 -2.88923105 -2.77788044 -3.02341724\n",
            " -2.95836131 -2.96057068 -2.95988289]\n",
            " Xo Domain Space(10 Samples) :\n",
            " [-2.97993311 -2.95986622 -2.93979933 -2.91973244 -2.89966555 -2.87959866\n",
            " -2.85953177 -2.83946488 -2.81939799]\n"
          ],
          "name": "stdout"
        },
        {
          "output_type": "execute_result",
          "data": {
            "text/plain": [
              "Text(0.5, 0, 'Petal Length')"
            ]
          },
          "metadata": {
            "tags": []
          },
          "execution_count": 4
        },
        {
          "output_type": "display_data",
          "data": {
            "image/png": "[encoded data removed]",
            "text/plain": [
              "<Figure size 432x288 with 1 Axes>"
            ]
          },
          "metadata": {
            "tags": [],
            "needs_background": "light"
          }
        }
      ]
    },
    {
      "cell_type": "code",
      "metadata": {
        "colab": {
          "base_uri": "https://localhost:8080/",
          "height": 279
        },
        "id": "p2BP0b0XTFP_",
        "outputId": "7f3faff0-8c17-428e-f1d5-0c7039bb4459"
      },
      "source": [
        "import matplotlib.pyplot as plt \n",
        "import pandas as pd\n",
        "import numpy as np\n",
        "\n",
        "def kernel(point,xmat, k): \n",
        "    m,n = np.shape(xmat)\n",
        "    weights = np.mat(np.eye((m))) # eye - identity matrix \n",
        "    for j in range(m):\n",
        "        diff = point - X[j]\n",
        "        weights[j,j] = np.exp(diff*diff.T/(-2.0*k**2)) \n",
        "    return weights\n",
        "\n",
        "def localWeight(point,xmat,ymat,k): \n",
        "    wei = kernel(point,xmat,k)\n",
        "    W = (X.T*(wei*X)).I*(X.T*(wei*ymat.T)) \n",
        "    return W\n",
        "\n",
        "def localWeightRegression(xmat,ymat,k): \n",
        "    m,n = np.shape(xmat)\n",
        "    ypred = np.zeros(m) \n",
        "    for i in range(m):\n",
        "        ypred[i] = xmat[i]*localWeight(xmat[i],xmat,ymat,k) \n",
        "    return ypred\n",
        "\n",
        "def graphPlot(X,ypred):\n",
        "    sortindex = X[:,1].argsort(0) #argsort - index of the smallest \n",
        "    xsort = X[sortindex][:,0]\n",
        "    fig = plt.figure()\n",
        "    ax = fig.add_subplot(1,1,1) \n",
        "    ax.scatter(bill,tip, color='green')\n",
        "    ax.plot(xsort[:,1],ypred[sortindex], color = 'red', linewidth=5) \n",
        "    plt.xlabel('Total bill')\n",
        "    plt.ylabel('Tip') \n",
        "    plt.show();\n",
        "\n",
        "# load data points\n",
        "data = pd.read_csv('/content/tips.csv')\n",
        "bill = np.array(data.total_bill) # We use only Bill amount and Tips data \n",
        "tip = np.array(data.tip)\n",
        "\n",
        "mbill = np.mat(bill) # .mat will convert nd array is converted in 2D array \n",
        "mtip = np.mat(tip)\n",
        "m= np.shape(mbill)[1] \n",
        "one = np.mat(np.ones(m))\n",
        "X = np.hstack((one.T,mbill.T)) # 244 rows, 2 cols\n",
        "\n",
        "# increase k to get smooth curves\n",
        "ypred = localWeightRegression(X,mtip,3) \n",
        "graphPlot(X,ypred)"
      ],
      "execution_count": 6,
      "outputs": [
        {
          "output_type": "display_data",
          "data": {
            "image/png": "[encoded data removed]",
            "text/plain": [
              "<Figure size 432x288 with 1 Axes>"
            ]
          },
          "metadata": {
            "tags": [],
            "needs_background": "light"
          }
        }
      ]
    }
  ]
}