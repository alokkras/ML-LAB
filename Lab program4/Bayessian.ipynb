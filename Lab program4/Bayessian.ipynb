{
  "nbformat": 4,
  "nbformat_minor": 0,
  "metadata": {
    "colab": {
      "name": "Bayessian.ipynb",
      "provenance": []
    },
    "kernelspec": {
      "name": "python3",
      "display_name": "Python 3"
    },
    "language_info": {
      "name": "python"
    }
  },
  "cells": [
    {
      "cell_type": "markdown",
      "metadata": {
        "id": "ClW8bXmS4OD5"
      },
      "source": [
        "## naive-bayes-classifier\n",
        "### Rohit Kudache (1BM18CS083)"
      ]
    },
    {
      "cell_type": "code",
      "metadata": {
        "colab": {
          "base_uri": "https://localhost:8080/"
        },
        "id": "-fv-YfXrxBZF",
        "outputId": "8ebd0f7e-b9ec-48c5-f394-d33804409ea4"
      },
      "source": [
        "!git clone https://github.com/AnusreeK-2000/ML_BM18CS017.git"
      ],
      "execution_count": 1,
      "outputs": [
        {
          "output_type": "stream",
          "text": [
            "Cloning into 'ML_BM18CS017'...\n",
            "remote: Enumerating objects: 28, done.\u001b[K\n",
            "remote: Counting objects: 100% (28/28), done.\u001b[K\n",
            "remote: Compressing objects: 100% (26/26), done.\u001b[K\n",
            "remote: Total 28 (delta 4), reused 0 (delta 0), pack-reused 0\u001b[K\n",
            "Unpacking objects: 100% (28/28), done.\n"
          ],
          "name": "stdout"
        }
      ]
    },
    {
      "cell_type": "code",
      "metadata": {
        "id": "4eQbaIcmxKyA"
      },
      "source": [
        "import pandas as pd\n",
        "from sklearn.model_selection import train_test_split\n",
        "from sklearn.naive_bayes import GaussianNB\n",
        "from sklearn import metrics"
      ],
      "execution_count": 8,
      "outputs": []
    },
    {
      "cell_type": "code",
      "metadata": {
        "id": "0CjDiQgrxUjU"
      },
      "source": [
        "df = pd.read_csv(\"/content/ML_BM18CS017/LAB4-Bayesian Classifier/pima_indian.csv\")\n",
        "col_names = ['num_preg', 'glucose_conc', 'diastolic_bp', 'thickness', 'insulin', 'bmi', 'diab_pred', 'age']\n",
        "predicted_class = ['diabetes']"
      ],
      "execution_count": 38,
      "outputs": []
    },
    {
      "cell_type": "code",
      "metadata": {
        "id": "Rx7cOOA0xZnX"
      },
      "source": [
        "X = df[col_names].values \n",
        "y = df[predicted_class].values"
      ],
      "execution_count": 28,
      "outputs": []
    },
    {
      "cell_type": "code",
      "metadata": {
        "colab": {
          "base_uri": "https://localhost:8080/"
        },
        "id": "_pby4wIJxcrJ",
        "outputId": "a6e49ede-d592-40cc-e7e3-52d8b5f10d44"
      },
      "source": [
        "print(df.head)\n",
        "xtrain,xtest,ytrain,ytest=train_test_split(X,y,test_size=0.4)\n",
        "\n",
        "print ('\\n the total number of Training Data :',ytrain.shape)\n",
        "print ('\\n the total number of Test Data :',ytest.shape)"
      ],
      "execution_count": 34,
      "outputs": [
        {
          "output_type": "stream",
          "text": [
            "<bound method NDFrame.head of      num_preg  glucose_conc  diastolic_bp  ...  diab_pred  age  diabetes\n",
            "0           6           148            72  ...      0.627   50         1\n",
            "1           1            85            66  ...      0.351   31         0\n",
            "2           8           183            64  ...      0.672   32         1\n",
            "3           1            89            66  ...      0.167   21         0\n",
            "4           0           137            40  ...      2.288   33         1\n",
            "..        ...           ...           ...  ...        ...  ...       ...\n",
            "763        10           101            76  ...      0.171   63         0\n",
            "764         2           122            70  ...      0.340   27         0\n",
            "765         5           121            72  ...      0.245   30         0\n",
            "766         1           126            60  ...      0.349   47         1\n",
            "767         1            93            70  ...      0.315   23         0\n",
            "\n",
            "[768 rows x 9 columns]>\n",
            "\n",
            " the total number of Training Data : (460, 1)\n",
            "\n",
            " the total number of Test Data : (308, 1)\n"
          ],
          "name": "stdout"
        }
      ]
    },
    {
      "cell_type": "code",
      "metadata": {
        "id": "15Pmrlx8xg3S"
      },
      "source": [
        "clf = GaussianNB().fit(xtrain,ytrain.ravel())\n",
        "predicted = clf.predict(xtest)\n",
        "predictTestData= clf.predict([[6,148,72,35,0,33.6,0.627,50]])"
      ],
      "execution_count": 35,
      "outputs": []
    },
    {
      "cell_type": "code",
      "metadata": {
        "colab": {
          "base_uri": "https://localhost:8080/"
        },
        "id": "4EshIj7vxkiA",
        "outputId": "996a60ff-ec15-40d4-b09c-2df9a325cccc"
      },
      "source": [
        "print('\\n Confusion matrix')\n",
        "print(metrics.confusion_matrix(ytest,predicted))\n",
        "\n",
        "print('\\n Accuracy of the classifier is',metrics.accuracy_score(ytest,predicted))\n",
        "\n",
        "print('\\n The value of Precision', metrics.precision_score(ytest,predicted))\n",
        "\n",
        "print('\\n The value of Recall', metrics.recall_score(ytest,predicted))\n",
        "\n",
        "print(\"Predicted Value for individual Test Data:\", predictTestData)\n",
        "\n"
      ],
      "execution_count": 36,
      "outputs": [
        {
          "output_type": "stream",
          "text": [
            "\n",
            " Confusion matrix\n",
            "[[166  37]\n",
            " [ 44  61]]\n",
            "\n",
            " Accuracy of the classifier is 0.737012987012987\n",
            "\n",
            " The value of Precision 0.6224489795918368\n",
            "\n",
            " The value of Recall 0.580952380952381\n",
            "Predicted Value for individual Test Data: [1]\n"
          ],
          "name": "stdout"
        }
      ]
    }
  ]
}